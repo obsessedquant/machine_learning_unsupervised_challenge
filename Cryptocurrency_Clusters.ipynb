{
 "cells": [
  {
   "cell_type": "markdown",
   "id": "ec98195d",
   "metadata": {},
   "source": [
    "# Cryptocurrency Clusters"
   ]
  },
  {
   "cell_type": "code",
   "execution_count": 4,
   "id": "2a607cb0",
   "metadata": {},
   "outputs": [
    {
     "data": {
      "text/html": [
       "<div>\n",
       "<style scoped>\n",
       "    .dataframe tbody tr th:only-of-type {\n",
       "        vertical-align: middle;\n",
       "    }\n",
       "\n",
       "    .dataframe tbody tr th {\n",
       "        vertical-align: top;\n",
       "    }\n",
       "\n",
       "    .dataframe thead th {\n",
       "        text-align: right;\n",
       "    }\n",
       "</style>\n",
       "<table border=\"1\" class=\"dataframe\">\n",
       "  <thead>\n",
       "    <tr style=\"text-align: right;\">\n",
       "      <th></th>\n",
       "      <th>Unnamed: 0</th>\n",
       "      <th>CoinName</th>\n",
       "      <th>Algorithm</th>\n",
       "      <th>IsTrading</th>\n",
       "      <th>ProofType</th>\n",
       "      <th>TotalCoinsMined</th>\n",
       "      <th>TotalCoinSupply</th>\n",
       "    </tr>\n",
       "  </thead>\n",
       "  <tbody>\n",
       "    <tr>\n",
       "      <th>0</th>\n",
       "      <td>42</td>\n",
       "      <td>42 Coin</td>\n",
       "      <td>Scrypt</td>\n",
       "      <td>True</td>\n",
       "      <td>PoW/PoS</td>\n",
       "      <td>4.199995e+01</td>\n",
       "      <td>42</td>\n",
       "    </tr>\n",
       "    <tr>\n",
       "      <th>1</th>\n",
       "      <td>365</td>\n",
       "      <td>365Coin</td>\n",
       "      <td>X11</td>\n",
       "      <td>True</td>\n",
       "      <td>PoW/PoS</td>\n",
       "      <td>NaN</td>\n",
       "      <td>2300000000</td>\n",
       "    </tr>\n",
       "    <tr>\n",
       "      <th>2</th>\n",
       "      <td>404</td>\n",
       "      <td>404Coin</td>\n",
       "      <td>Scrypt</td>\n",
       "      <td>True</td>\n",
       "      <td>PoW/PoS</td>\n",
       "      <td>1.055185e+09</td>\n",
       "      <td>532000000</td>\n",
       "    </tr>\n",
       "    <tr>\n",
       "      <th>3</th>\n",
       "      <td>611</td>\n",
       "      <td>SixEleven</td>\n",
       "      <td>SHA-256</td>\n",
       "      <td>True</td>\n",
       "      <td>PoW</td>\n",
       "      <td>NaN</td>\n",
       "      <td>611000</td>\n",
       "    </tr>\n",
       "    <tr>\n",
       "      <th>4</th>\n",
       "      <td>808</td>\n",
       "      <td>808</td>\n",
       "      <td>SHA-256</td>\n",
       "      <td>True</td>\n",
       "      <td>PoW/PoS</td>\n",
       "      <td>0.000000e+00</td>\n",
       "      <td>0</td>\n",
       "    </tr>\n",
       "    <tr>\n",
       "      <th>...</th>\n",
       "      <td>...</td>\n",
       "      <td>...</td>\n",
       "      <td>...</td>\n",
       "      <td>...</td>\n",
       "      <td>...</td>\n",
       "      <td>...</td>\n",
       "      <td>...</td>\n",
       "    </tr>\n",
       "    <tr>\n",
       "      <th>1247</th>\n",
       "      <td>XBC</td>\n",
       "      <td>BitcoinPlus</td>\n",
       "      <td>Scrypt</td>\n",
       "      <td>True</td>\n",
       "      <td>PoS</td>\n",
       "      <td>1.283270e+05</td>\n",
       "      <td>1000000</td>\n",
       "    </tr>\n",
       "    <tr>\n",
       "      <th>1248</th>\n",
       "      <td>DVTC</td>\n",
       "      <td>DivotyCoin</td>\n",
       "      <td>Scrypt</td>\n",
       "      <td>False</td>\n",
       "      <td>PoW/PoS</td>\n",
       "      <td>2.149121e+07</td>\n",
       "      <td>100000000</td>\n",
       "    </tr>\n",
       "    <tr>\n",
       "      <th>1249</th>\n",
       "      <td>GIOT</td>\n",
       "      <td>Giotto Coin</td>\n",
       "      <td>Scrypt</td>\n",
       "      <td>False</td>\n",
       "      <td>PoW/PoS</td>\n",
       "      <td>NaN</td>\n",
       "      <td>233100000</td>\n",
       "    </tr>\n",
       "    <tr>\n",
       "      <th>1250</th>\n",
       "      <td>OPSC</td>\n",
       "      <td>OpenSourceCoin</td>\n",
       "      <td>SHA-256</td>\n",
       "      <td>False</td>\n",
       "      <td>PoW/PoS</td>\n",
       "      <td>NaN</td>\n",
       "      <td>21000000</td>\n",
       "    </tr>\n",
       "    <tr>\n",
       "      <th>1251</th>\n",
       "      <td>PUNK</td>\n",
       "      <td>SteamPunk</td>\n",
       "      <td>PoS</td>\n",
       "      <td>False</td>\n",
       "      <td>PoS</td>\n",
       "      <td>NaN</td>\n",
       "      <td>40000000</td>\n",
       "    </tr>\n",
       "  </tbody>\n",
       "</table>\n",
       "<p>1252 rows × 7 columns</p>\n",
       "</div>"
      ],
      "text/plain": [
       "     Unnamed: 0        CoinName Algorithm  IsTrading ProofType  \\\n",
       "0            42         42 Coin    Scrypt       True   PoW/PoS   \n",
       "1           365         365Coin       X11       True   PoW/PoS   \n",
       "2           404         404Coin    Scrypt       True   PoW/PoS   \n",
       "3           611       SixEleven   SHA-256       True       PoW   \n",
       "4           808             808   SHA-256       True   PoW/PoS   \n",
       "...         ...             ...       ...        ...       ...   \n",
       "1247        XBC     BitcoinPlus    Scrypt       True       PoS   \n",
       "1248       DVTC      DivotyCoin    Scrypt      False   PoW/PoS   \n",
       "1249       GIOT     Giotto Coin    Scrypt      False   PoW/PoS   \n",
       "1250       OPSC  OpenSourceCoin   SHA-256      False   PoW/PoS   \n",
       "1251       PUNK       SteamPunk       PoS      False       PoS   \n",
       "\n",
       "      TotalCoinsMined TotalCoinSupply  \n",
       "0        4.199995e+01              42  \n",
       "1                 NaN      2300000000  \n",
       "2        1.055185e+09       532000000  \n",
       "3                 NaN          611000  \n",
       "4        0.000000e+00               0  \n",
       "...               ...             ...  \n",
       "1247     1.283270e+05         1000000  \n",
       "1248     2.149121e+07       100000000  \n",
       "1249              NaN       233100000  \n",
       "1250              NaN        21000000  \n",
       "1251              NaN        40000000  \n",
       "\n",
       "[1252 rows x 7 columns]"
      ]
     },
     "execution_count": 4,
     "metadata": {},
     "output_type": "execute_result"
    }
   ],
   "source": [
    "# Read in the data\n",
    "\n",
    "import pandas as pd\n",
    "df = pd.read_csv('./Resources/crypto_data.csv')\n",
    "df"
   ]
  },
  {
   "cell_type": "code",
   "execution_count": 63,
   "id": "3e445893",
   "metadata": {},
   "outputs": [
    {
     "name": "stdout",
     "output_type": "stream",
     "text": [
      "The dimensions of the dataframe are currently: (532, 4)\n"
     ]
    }
   ],
   "source": [
    "# Data Clean Up\n",
    "\n",
    "df_trading = df[(df['IsTrading']==True)]\n",
    "df_trading1 = df_trading.drop('IsTrading',axis=1)\n",
    "# df_trading1.isnull().sum() # Count number of rows that have a null value\n",
    "df_trading2 = df_trading1.dropna()\n",
    "df_trading3 = df_trading2[(df_trading2['TotalCoinsMined']>0)]\n",
    "df_trading4 = df_trading3.drop(['CoinName','Unnamed: 0'],1)\n",
    "# df_trading4.info() # Show dataframe information and data types\n",
    "df_trading4['TotalCoinSupply'] = df_trading4['TotalCoinSupply'].astype(str).astype(float)\n",
    "# df_trading4.info() # Show dataframe information and data types\n",
    "print(f'The dimensions of the dataframe are currently: {df_trading4.shape}')"
   ]
  },
  {
   "cell_type": "code",
   "execution_count": 64,
   "id": "f0e156d3",
   "metadata": {},
   "outputs": [
    {
     "name": "stdout",
     "output_type": "stream",
     "text": [
      "After running the get_dummies method, the dimensions of the dataframe are now: (532, 98)\n"
     ]
    }
   ],
   "source": [
    "# Convert categorical field to numeric\n",
    "\n",
    "df_trading5 = pd.get_dummies(df_trading4)\n",
    "print(f'After running the get_dummies method, the dimensions of the dataframe are now: {df_trading5.shape}')"
   ]
  },
  {
   "cell_type": "code",
   "execution_count": 66,
   "id": "0ea14953",
   "metadata": {
    "scrolled": false
   },
   "outputs": [
    {
     "name": "stdout",
     "output_type": "stream",
     "text": [
      "The dataset has been standardized so that columns that contain larger values are not unduly influencing the outcome.\n"
     ]
    }
   ],
   "source": [
    "# Scale the large values to prevent skewing the model weightings\n",
    "\n",
    "from sklearn.preprocessing import MinMaxScaler\n",
    "scaler = MinMaxScaler().fit(df_trading5)\n",
    "scaled_data = scaler.transform(df_trading5)\n",
    "# scaled_data[0:1]\n",
    "print(f'The dataset has been standardized so that columns that contain larger values are not unduly influencing the outcome.')"
   ]
  },
  {
   "cell_type": "code",
   "execution_count": 68,
   "id": "ae9f9b62",
   "metadata": {},
   "outputs": [
    {
     "name": "stdout",
     "output_type": "stream",
     "text": [
      "The number of features for the PCA has been reduced from 98 to 28, this accomodates 90% of the explained variance.\n"
     ]
    }
   ],
   "source": [
    "# Instantiate a PCA that explains 90% of the variance\n",
    "\n",
    "from sklearn.decomposition import PCA\n",
    "\n",
    "pca = PCA(n_components=0.90, svd_solver='full')\n",
    "pca_transformed_data = pca.fit_transform(scaled_data)\n",
    "\n",
    "print(f'The number of features for the PCA has been reduced from {df_trading5.shape[1]} to {pca_transformed_data.shape[1]}, this accomodates 90% of the explained variance.')"
   ]
  },
  {
   "cell_type": "code",
   "execution_count": 49,
   "id": "e5db81b7",
   "metadata": {},
   "outputs": [
    {
     "data": {
      "image/png": "[encoded data removed]",
      "text/plain": [
       "<Figure size 1800x576 with 1 Axes>"
      ]
     },
     "metadata": {
      "needs_background": "dark"
     },
     "output_type": "display_data"
    }
   ],
   "source": [
    "# Create a tsne to visualize the clusters\n",
    "\n",
    "from sklearn.manifold import TSNE\n",
    "import matplotlib.pyplot as plt\n",
    "\n",
    "tsne = TSNE(n_components=2,n_iter=250,perplexity=10,learning_rate=100)\n",
    "transformed_features = tsne.fit_transform(pca_transformed_data)\n",
    "\n",
    "df_trading5['x'] = transformed_features[:,0]\n",
    "df_trading5['y'] = transformed_features[:,1]\n",
    "\n",
    "fig = plt.figure()\n",
    "fig.set_figheight(8)\n",
    "fig.set_figwidth(25)\n",
    "ax = fig.add_subplot(121)\n",
    "ax.tick_params(axis='x', colors='white')  #setting up X-axis tick color to white\n",
    "ax.tick_params(axis='y', colors='white')  #setting up Y-axis tick color to white\n",
    "\n",
    "plt.scatter(df_trading5['x'], df_trading5['y'])\n",
    "plt.show()"
   ]
  },
  {
   "cell_type": "code",
   "execution_count": 69,
   "id": "ffc01992",
   "metadata": {},
   "outputs": [
    {
     "name": "stderr",
     "output_type": "stream",
     "text": [
      "C:\\Users\\srobi\\anaconda3\\envs\\PythonAdv\\lib\\site-packages\\sklearn\\cluster\\_kmeans.py:882: UserWarning: KMeans is known to have a memory leak on Windows with MKL, when there are less chunks than available threads. You can avoid it by setting the environment variable OMP_NUM_THREADS=3.\n",
      "  f\"KMeans is known to have a memory leak on Windows \"\n"
     ]
    },
    {
     "data": {
      "image/png": "[encoded data removed]",
      "text/plain": [
       "<Figure size 1800x576 with 1 Axes>"
      ]
     },
     "metadata": {
      "needs_background": "dark"
     },
     "output_type": "display_data"
    }
   ],
   "source": [
    "# Run the Cluster Analysis with k-Means\n",
    "\n",
    "pca = PCA(n_components=2)\n",
    "crypto_pca = pca.fit_transform(scaled_data)\n",
    "\n",
    "df_crypto_pca = pd.DataFrame(\n",
    "    data=crypto_pca, columns=[\"principal component 1\", \"principal component 2\"]\n",
    ")\n",
    "\n",
    "\n",
    "from sklearn.cluster import KMeans\n",
    "\n",
    "# Finding the best value for k\n",
    "inertia = []\n",
    "k = list(range(1, 11))\n",
    "\n",
    "# Calculate the inertia for the range of k values\n",
    "for i in k:\n",
    "    km = KMeans(n_clusters=i, random_state=0)\n",
    "    km.fit(crypto_pca)\n",
    "    inertia.append(km.inertia_)\n",
    "\n",
    "# Creating the Elbow Curve\n",
    "elbow_data = {\"k\": k, \"inertia\": inertia}\n",
    "df_elbow = pd.DataFrame(elbow_data)\n",
    "\n",
    "fig = plt.figure()\n",
    "fig.set_figheight(8)\n",
    "fig.set_figwidth(25)\n",
    "ax = fig.add_subplot(121)\n",
    "ax.xaxis.label.set_color('white') #setting up X-axis label color to white\n",
    "ax.yaxis.label.set_color('white') #setting up Y-axis label color to white\n",
    "ax.tick_params(axis='x', colors='white') #setting up X-axis tick color to white\n",
    "ax.tick_params(axis='y', colors='white') #setting up Y-axis tick color to white\n",
    "\n",
    "title_obj = plt.title('Elbow Curve') #get the title property handler\n",
    "# plt.getp(title_obj) #print out the properties of title\n",
    "plt.getp(title_obj, 'text') #print out the 'text' property for title\n",
    "plt.setp(title_obj, color='white') #set the color of title to red\n",
    "\n",
    "plt.plot(df_elbow['k'], df_elbow['inertia'])\n",
    "plt.xticks(list(range(11)))\n",
    "plt.title('Elbow Curve')\n",
    "plt.xlabel('Number of clusters')\n",
    "plt.ylabel('Inertia')\n",
    "plt.show()"
   ]
  },
  {
   "cell_type": "markdown",
   "id": "26e88118",
   "metadata": {},
   "source": [
    "### Recommendations\n",
    "\n",
    "Based on the clustering analysis, the cryptocurrencies can be clustered into 28 groups with a 90% explained variance.\n",
    "\n",
    "There are also 6 macro clusters that the cryptocurrencies can be grouped into based on the k-Means clustering method."
   ]
  }
 ],
 "metadata": {
  "kernelspec": {
   "display_name": "Python [conda env:PythonAdv]",
   "language": "python",
   "name": "conda-env-PythonAdv-py"
  },
  "language_info": {
   "codemirror_mode": {
    "name": "ipython",
    "version": 3
   },
   "file_extension": ".py",
   "mimetype": "text/x-python",
   "name": "python",
   "nbconvert_exporter": "python",
   "pygments_lexer": "ipython3",
   "version": "3.6.13"
  }
 },
 "nbformat": 4,
 "nbformat_minor": 5
}
